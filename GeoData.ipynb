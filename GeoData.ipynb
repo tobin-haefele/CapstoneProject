{
 "cells": [
  {
   "cell_type": "code",
   "execution_count": 3,
   "metadata": {},
   "outputs": [
    {
     "ename": "SyntaxError",
     "evalue": "invalid syntax (2011564446.py, line 2)",
     "output_type": "error",
     "traceback": [
      "\u001b[1;36m  Cell \u001b[1;32mIn[3], line 2\u001b[1;36m\u001b[0m\n\u001b[1;33m    source venv/bin/activate\u001b[0m\n\u001b[1;37m           ^\u001b[0m\n\u001b[1;31mSyntaxError\u001b[0m\u001b[1;31m:\u001b[0m invalid syntax\n"
     ]
    }
   ],
   "source": [
    "#install necessary packages\n",
    "#!pip install geopandas\n",
    "#!pip install pathlib\n",
    "#!pip install folium\n",
    "\n",
    "# import necessary libraries\n",
    "import geopandas as gpd\n",
    "from pathlib import Path\n",
    "from matplotlib import pyplot as plt\n",
    "import folium"
   ]
  },
  {
   "cell_type": "code",
   "execution_count": 9,
   "metadata": {},
   "outputs": [],
   "source": [
    "#import the geodatabase\n",
    "gdb_path = Path(\"data/Msla_Cnty_Russian_olive.gdb.zip\")\n",
    "gdb_areas = gpd.read_file(gdb_path, layer=\"Russian_olive_areas\")\n",
    "gdb_points = gpd.read_file(gdb_path, layer=\"Russian_olive_points\")\n",
    "gdb_lines = gpd.read_file(gdb_path, layer=\"Russian_olive_lines\")\n",
    "\n",
    "#convert timestamps to string\n",
    "gdb_areas['GPS_Date'] = gdb_areas['GPS_Date'].astype(str)\n",
    "gdb_points['GPS_Date'] = gdb_points['GPS_Date'].astype(str)\n",
    "gdb_lines['GPS_Date'] = gdb_lines['GPS_Date'].astype(str)\n"
   ]
  },
  {
   "cell_type": "code",
   "execution_count": null,
   "metadata": {},
   "outputs": [],
   "source": [
    "#view gdb_areas \n",
    "print(len(gdb_points))"
   ]
  },
  {
   "cell_type": "code",
   "execution_count": null,
   "metadata": {},
   "outputs": [],
   "source": [
    "\n",
    "#plot the geodatabase with folium\n",
    "m = folium.Map(location=[46.86, -113.99], zoom_start=12)  # Center on Missoula County (adjust as needed)\n",
    "folium.GeoJson(gdb_areas).add_to(m)\n",
    "folium.GeoJson(gdb_lines).add_to(m)\n",
    "m.save(\"data/Msla_Cnty_Russian_olive.html\")\n",
    "m\n",
    "\n"
   ]
  }
 ],
 "metadata": {
  "kernelspec": {
   "display_name": "Python 3",
   "language": "python",
   "name": "python3"
  },
  "language_info": {
   "codemirror_mode": {
    "name": "ipython",
    "version": 3
   },
   "file_extension": ".py",
   "mimetype": "text/x-python",
   "name": "python",
   "nbconvert_exporter": "python",
   "pygments_lexer": "ipython3",
   "version": "3.13.1"
  }
 },
 "nbformat": 4,
 "nbformat_minor": 2
}
